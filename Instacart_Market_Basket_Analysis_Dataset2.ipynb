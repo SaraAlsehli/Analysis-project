{
  "nbformat": 4,
  "nbformat_minor": 0,
  "metadata": {
    "colab": {
      "provenance": [],
      "gpuType": "T4",
      "include_colab_link": true
    },
    "kernelspec": {
      "name": "python3",
      "display_name": "Python 3"
    },
    "language_info": {
      "name": "python"
    },
    "accelerator": "GPU"
  },
  "cells": [
    {
      "cell_type": "markdown",
      "metadata": {
        "id": "view-in-github",
        "colab_type": "text"
      },
      "source": [
        "<a href=\"https://colab.research.google.com/github/SaraAlsehli/Analysis-project/blob/patch-1/Instacart_Market_Basket_Analysis_Dataset2.ipynb\" target=\"_parent\"><img src=\"https://colab.research.google.com/assets/colab-badge.svg\" alt=\"Open In Colab\"/></a>"
      ]
    },
    {
      "cell_type": "code",
      "execution_count": null,
      "metadata": {
        "id": "_HPK2YvZyN4I",
        "outputId": "fb5903f2-0df2-44a0-de95-789e17790fa2",
        "colab": {
          "base_uri": "https://localhost:8080/"
        }
      },
      "outputs": [
        {
          "output_type": "stream",
          "name": "stderr",
          "text": [
            "/usr/local/lib/python3.10/dist-packages/ipykernel/ipkernel.py:283: DeprecationWarning: `should_run_async` will not call `transform_cell` automatically in the future. Please pass the result to `transformed_cell` argument and any exception that happen during thetransform in `preprocessing_exc_tuple` in IPython 7.17 and above.\n",
            "  and should_run_async(code)\n"
          ]
        }
      ],
      "source": [
        "import pandas as pd\n",
        "from mlxtend.frequent_patterns import apriori\n",
        "from mlxtend.frequent_patterns import association_rules\n",
        "from mlxtend.preprocessing import TransactionEncoder\n",
        "from scipy.sparse import csr_matrix\n",
        "import matplotlib.pyplot as plt\n",
        "import seaborn as sns"
      ]
    },
    {
      "cell_type": "code",
      "source": [
        "aisles = pd.read_csv('/content/aisles.csv')\n",
        "departments = pd.read_csv('/content/departments.csv')\n",
        "order_products = pd.read_csv('/content/order_products__train.csv')\n",
        "orders = pd.read_csv('/content/orders.csv')\n",
        "products = pd.read_csv('/content/products.csv')\n",
        "\n",
        "\n"
      ],
      "metadata": {
        "colab": {
          "base_uri": "https://localhost:8080/"
        },
        "id": "KZc2ucDQ-Eod",
        "outputId": "9cf99748-0b77-4ffc-b080-a4214f26aed3"
      },
      "execution_count": null,
      "outputs": [
        {
          "output_type": "stream",
          "name": "stderr",
          "text": [
            "/usr/local/lib/python3.10/dist-packages/ipykernel/ipkernel.py:283: DeprecationWarning: `should_run_async` will not call `transform_cell` automatically in the future. Please pass the result to `transformed_cell` argument and any exception that happen during thetransform in `preprocessing_exc_tuple` in IPython 7.17 and above.\n",
            "  and should_run_async(code)\n"
          ]
        }
      ]
    },
    {
      "cell_type": "code",
      "source": [
        "# Display a few rows from each dataset\n",
        "print(aisles.head())\n",
        "print(departments.head())\n",
        "print(order_products.head())\n",
        "print(orders.head())\n",
        "print(products.head())"
      ],
      "metadata": {
        "colab": {
          "base_uri": "https://localhost:8080/"
        },
        "id": "yQ46cHAQpXR_",
        "outputId": "1b076ada-792a-4f43-d4b1-cb8dc72dabce"
      },
      "execution_count": null,
      "outputs": [
        {
          "output_type": "stream",
          "name": "stdout",
          "text": [
            "   aisle_id                       aisle\n",
            "0         1       prepared soups salads\n",
            "1         2           specialty cheeses\n",
            "2         3         energy granola bars\n",
            "3         4               instant foods\n",
            "4         5  marinades meat preparation\n",
            "   department_id department\n",
            "0              1     frozen\n",
            "1              2      other\n",
            "2              3     bakery\n",
            "3              4    produce\n",
            "4              5    alcohol\n",
            "   order_id  product_id  add_to_cart_order  reordered\n",
            "0         1       49302                  1          1\n",
            "1         1       11109                  2          1\n",
            "2         1       10246                  3          0\n",
            "3         1       49683                  4          0\n",
            "4         1       43633                  5          1\n",
            "   order_id  user_id eval_set  order_number  order_dow  order_hour_of_day  \\\n",
            "0   2539329        1    prior             1          2                  8   \n",
            "1   2398795        1    prior             2          3                  7   \n",
            "2    473747        1    prior             3          3                 12   \n",
            "3   2254736        1    prior             4          4                  7   \n",
            "4    431534        1    prior             5          4                 15   \n",
            "\n",
            "   days_since_prior_order  \n",
            "0                     NaN  \n",
            "1                    15.0  \n",
            "2                    21.0  \n",
            "3                    29.0  \n",
            "4                    28.0  \n",
            "   product_id                                       product_name  aisle_id  \\\n",
            "0           1                         Chocolate Sandwich Cookies        61   \n",
            "1           2                                   All-Seasons Salt       104   \n",
            "2           3               Robust Golden Unsweetened Oolong Tea        94   \n",
            "3           4  Smart Ones Classic Favorites Mini Rigatoni Wit...        38   \n",
            "4           5                          Green Chile Anytime Sauce         5   \n",
            "\n",
            "   department_id  \n",
            "0             19  \n",
            "1             13  \n",
            "2              7  \n",
            "3              1  \n",
            "4             13  \n"
          ]
        },
        {
          "output_type": "stream",
          "name": "stderr",
          "text": [
            "/usr/local/lib/python3.10/dist-packages/ipykernel/ipkernel.py:283: DeprecationWarning: `should_run_async` will not call `transform_cell` automatically in the future. Please pass the result to `transformed_cell` argument and any exception that happen during thetransform in `preprocessing_exc_tuple` in IPython 7.17 and above.\n",
            "  and should_run_async(code)\n"
          ]
        }
      ]
    },
    {
      "cell_type": "code",
      "source": [
        "top_products = order_products['product_id'].value_counts().nlargest(10).index\n",
        "filtered_order_products = order_products[order_products['product_id'].isin(top_products)]"
      ],
      "metadata": {
        "colab": {
          "base_uri": "https://localhost:8080/"
        },
        "id": "tpMsG_3UqD7p",
        "outputId": "d2345e3b-623f-4516-c8af-9bd406274918"
      },
      "execution_count": null,
      "outputs": [
        {
          "output_type": "stream",
          "name": "stderr",
          "text": [
            "/usr/local/lib/python3.10/dist-packages/ipykernel/ipkernel.py:283: DeprecationWarning: `should_run_async` will not call `transform_cell` automatically in the future. Please pass the result to `transformed_cell` argument and any exception that happen during thetransform in `preprocessing_exc_tuple` in IPython 7.17 and above.\n",
            "  and should_run_async(code)\n"
          ]
        }
      ]
    },
    {
      "cell_type": "code",
      "source": [
        "plt.figure(figsize=(10, 6))\n",
        "sns.countplot(x='product_id', data=filtered_order_products, palette='gist_earth',\n",
        "              order=filtered_order_products['product_id'].value_counts().index)\n",
        "plt.title(\"Top 10 Products\", fontsize=15, weight='bold')\n",
        "plt.xticks(rotation=45)\n",
        "plt.xlabel(\"Product ID\")\n",
        "plt.ylabel(\"Count\")\n",
        "plt.show()"
      ],
      "metadata": {
        "colab": {
          "base_uri": "https://localhost:8080/",
          "height": 734
        },
        "id": "YmTnOOsapdXq",
        "outputId": "05659597-7fa9-4cd7-c55e-05290a6da0c0"
      },
      "execution_count": null,
      "outputs": [
        {
          "output_type": "stream",
          "name": "stderr",
          "text": [
            "/usr/local/lib/python3.10/dist-packages/ipykernel/ipkernel.py:283: DeprecationWarning: `should_run_async` will not call `transform_cell` automatically in the future. Please pass the result to `transformed_cell` argument and any exception that happen during thetransform in `preprocessing_exc_tuple` in IPython 7.17 and above.\n",
            "  and should_run_async(code)\n",
            "<ipython-input-7-f1027b49f698>:2: FutureWarning: \n",
            "\n",
            "Passing `palette` without assigning `hue` is deprecated and will be removed in v0.14.0. Assign the `x` variable to `hue` and set `legend=False` for the same effect.\n",
            "\n",
            "  sns.countplot(x='product_id', data=filtered_order_products, palette='gist_earth',\n"
          ]
        },
        {
          "output_type": "display_data",
          "data": {
            "text/plain": [
              "<Figure size 1000x600 with 1 Axes>"
            ],
            "image/png": "[encoded data removed]"
          },
          "metadata": {}
        }
      ]
    },
    {
      "cell_type": "markdown",
      "source": [
        "# Merge order_products with products and orders to get complete information\n"
      ],
      "metadata": {
        "id": "AQ9I-9ZVqm_j"
      }
    },
    {
      "cell_type": "code",
      "source": [
        "order_products_merged = order_products.merge(products, on='product_id', how='left')\n",
        "order_products_merged = order_products_merged.merge(orders, on='order_id', how='left')"
      ],
      "metadata": {
        "colab": {
          "base_uri": "https://localhost:8080/"
        },
        "id": "3aOlDgweK_Bv",
        "outputId": "2355a737-8feb-4314-a739-e1d544f34458"
      },
      "execution_count": null,
      "outputs": [
        {
          "output_type": "stream",
          "name": "stderr",
          "text": [
            "/usr/local/lib/python3.10/dist-packages/ipykernel/ipkernel.py:283: DeprecationWarning: `should_run_async` will not call `transform_cell` automatically in the future. Please pass the result to `transformed_cell` argument and any exception that happen during thetransform in `preprocessing_exc_tuple` in IPython 7.17 and above.\n",
            "  and should_run_async(code)\n"
          ]
        }
      ]
    },
    {
      "cell_type": "markdown",
      "source": [
        "# Filter top products and orders to reduce data size\n"
      ],
      "metadata": {
        "id": "kdGAD0ByqzZR"
      }
    },
    {
      "cell_type": "code",
      "source": [
        "top_products = order_products['product_id'].value_counts().index[:30000]\n",
        "top_orders = orders['order_id'].value_counts().index[:30000]\n",
        "\n",
        "filtered_data = order_products_merged[\n",
        "    order_products_merged['product_id'].isin(top_products) &\n",
        "    order_products_merged['order_id'].isin(top_orders)\n",
        "]"
      ],
      "metadata": {
        "colab": {
          "base_uri": "https://localhost:8080/"
        },
        "id": "77AA5ixDqwGp",
        "outputId": "4c179569-8abe-45bb-f1cc-1e6c383d978c"
      },
      "execution_count": null,
      "outputs": [
        {
          "output_type": "stream",
          "name": "stderr",
          "text": [
            "/usr/local/lib/python3.10/dist-packages/ipykernel/ipkernel.py:283: DeprecationWarning: `should_run_async` will not call `transform_cell` automatically in the future. Please pass the result to `transformed_cell` argument and any exception that happen during thetransform in `preprocessing_exc_tuple` in IPython 7.17 and above.\n",
            "  and should_run_async(code)\n"
          ]
        }
      ]
    },
    {
      "cell_type": "markdown",
      "source": [
        "# Create a basket representation where each row is a list of products in an order\n"
      ],
      "metadata": {
        "id": "mWXM2xveq5xG"
      }
    },
    {
      "cell_type": "code",
      "source": [
        "basket = filtered_data[['order_id', 'product_name']].drop_duplicates()\n",
        "basket = basket.groupby('order_id')['product_name'].apply(list).reset_index()"
      ],
      "metadata": {
        "colab": {
          "base_uri": "https://localhost:8080/"
        },
        "id": "RXbhqlreq6gB",
        "outputId": "2f4179be-0c24-40fe-a7d8-d2a45cdf8ded"
      },
      "execution_count": null,
      "outputs": [
        {
          "output_type": "stream",
          "name": "stderr",
          "text": [
            "/usr/local/lib/python3.10/dist-packages/ipykernel/ipkernel.py:283: DeprecationWarning: `should_run_async` will not call `transform_cell` automatically in the future. Please pass the result to `transformed_cell` argument and any exception that happen during thetransform in `preprocessing_exc_tuple` in IPython 7.17 and above.\n",
            "  and should_run_async(code)\n"
          ]
        }
      ]
    },
    {
      "cell_type": "markdown",
      "source": [
        "# Remove any NaN values from the product_name list\n"
      ],
      "metadata": {
        "id": "8B2m4b8kq_Sh"
      }
    },
    {
      "cell_type": "code",
      "source": [
        "basket['product_name'] = basket['product_name'].apply(lambda x: [item for item in x if isinstance(item, str)])"
      ],
      "metadata": {
        "colab": {
          "base_uri": "https://localhost:8080/"
        },
        "id": "_-tF3cF4LKuI",
        "outputId": "76729898-8b9a-423d-c5e4-c00c70618ca1"
      },
      "execution_count": null,
      "outputs": [
        {
          "output_type": "stream",
          "name": "stderr",
          "text": [
            "/usr/local/lib/python3.10/dist-packages/ipykernel/ipkernel.py:283: DeprecationWarning: `should_run_async` will not call `transform_cell` automatically in the future. Please pass the result to `transformed_cell` argument and any exception that happen during thetransform in `preprocessing_exc_tuple` in IPython 7.17 and above.\n",
            "  and should_run_async(code)\n"
          ]
        }
      ]
    },
    {
      "cell_type": "markdown",
      "source": [
        "# Use TransactionEncoder to transform the basket data into the required format for Apriori\n"
      ],
      "metadata": {
        "id": "vFexYsCTrGvO"
      }
    },
    {
      "cell_type": "code",
      "source": [
        "te = TransactionEncoder()\n",
        "basket_transformed = te.fit(basket['product_name']).transform(basket['product_name'])\n",
        "basket_df = pd.DataFrame(basket_transformed, columns=te.columns_)"
      ],
      "metadata": {
        "colab": {
          "base_uri": "https://localhost:8080/"
        },
        "id": "tUiMInLnrEJl",
        "outputId": "21c49cb3-ec66-454d-831c-4f4565353ac6"
      },
      "execution_count": null,
      "outputs": [
        {
          "output_type": "stream",
          "name": "stderr",
          "text": [
            "/usr/local/lib/python3.10/dist-packages/ipykernel/ipkernel.py:283: DeprecationWarning: `should_run_async` will not call `transform_cell` automatically in the future. Please pass the result to `transformed_cell` argument and any exception that happen during thetransform in `preprocessing_exc_tuple` in IPython 7.17 and above.\n",
            "  and should_run_async(code)\n"
          ]
        }
      ]
    },
    {
      "cell_type": "markdown",
      "source": [
        "# Generate frequent itemsets using the Apriori algorithm"
      ],
      "metadata": {
        "id": "XxIov4K1Czf6"
      }
    },
    {
      "cell_type": "code",
      "source": [
        "frequent_itemsets = apriori(basket_df, min_support=0.005, use_colnames=True)\n",
        "frequent_itemsets.head()"
      ],
      "metadata": {
        "colab": {
          "base_uri": "https://localhost:8080/",
          "height": 261
        },
        "id": "1DkiI67g_qwQ",
        "outputId": "a7f749ec-373e-4fe3-d9de-3e2c0265b4f0"
      },
      "execution_count": null,
      "outputs": [
        {
          "output_type": "stream",
          "name": "stderr",
          "text": [
            "/usr/local/lib/python3.10/dist-packages/ipykernel/ipkernel.py:283: DeprecationWarning: `should_run_async` will not call `transform_cell` automatically in the future. Please pass the result to `transformed_cell` argument and any exception that happen during thetransform in `preprocessing_exc_tuple` in IPython 7.17 and above.\n",
            "  and should_run_async(code)\n"
          ]
        },
        {
          "output_type": "execute_result",
          "data": {
            "text/plain": [
              "    support                                       itemsets\n",
              "0  0.008446              (100% Lactose Free Fat Free Milk)\n",
              "1  0.006757                       (100% Raw Coconut Water)\n",
              "2  0.005068                   (100% Recycled Paper Towels)\n",
              "3  0.013514                       (100% Whole Wheat Bread)\n",
              "4  0.006757  (2% Reduced Fat DHA Omega-3 Reduced Fat Milk)"
            ],
            "text/html": [
              "\n",
              "  <div id=\"df-f50ba02d-552f-4e6e-81c0-4e2a4176ce99\" class=\"colab-df-container\">\n",
              "    <div>\n",
              "<style scoped>\n",
              "    .dataframe tbody tr th:only-of-type {\n",
              "        vertical-align: middle;\n",
              "    }\n",
              "\n",
              "    .dataframe tbody tr th {\n",
              "        vertical-align: top;\n",
              "    }\n",
              "\n",
              "    .dataframe thead th {\n",
              "        text-align: right;\n",
              "    }\n",
              "</style>\n",
              "<table border=\"1\" class=\"dataframe\">\n",
              "  <thead>\n",
              "    <tr style=\"text-align: right;\">\n",
              "      <th></th>\n",
              "      <th>support</th>\n",
              "      <th>itemsets</th>\n",
              "    </tr>\n",
              "  </thead>\n",
              "  <tbody>\n",
              "    <tr>\n",
              "      <th>0</th>\n",
              "      <td>0.008446</td>\n",
              "      <td>(100% Lactose Free Fat Free Milk)</td>\n",
              "    </tr>\n",
              "    <tr>\n",
              "      <th>1</th>\n",
              "      <td>0.006757</td>\n",
              "      <td>(100% Raw Coconut Water)</td>\n",
              "    </tr>\n",
              "    <tr>\n",
              "      <th>2</th>\n",
              "      <td>0.005068</td>\n",
              "      <td>(100% Recycled Paper Towels)</td>\n",
              "    </tr>\n",
              "    <tr>\n",
              "      <th>3</th>\n",
              "      <td>0.013514</td>\n",
              "      <td>(100% Whole Wheat Bread)</td>\n",
              "    </tr>\n",
              "    <tr>\n",
              "      <th>4</th>\n",
              "      <td>0.006757</td>\n",
              "      <td>(2% Reduced Fat DHA Omega-3 Reduced Fat Milk)</td>\n",
              "    </tr>\n",
              "  </tbody>\n",
              "</table>\n",
              "</div>\n",
              "    <div class=\"colab-df-buttons\">\n",
              "\n",
              "  <div class=\"colab-df-container\">\n",
              "    <button class=\"colab-df-convert\" onclick=\"convertToInteractive('df-f50ba02d-552f-4e6e-81c0-4e2a4176ce99')\"\n",
              "            title=\"Convert this dataframe to an interactive table.\"\n",
              "            style=\"display:none;\">\n",
              "\n",
              "  <svg xmlns=\"http://www.w3.org/2000/svg\" height=\"24px\" viewBox=\"0 -960 960 960\">\n",
              "    <path d=\"M120-120v-720h720v720H120Zm60-500h600v-160H180v160Zm220 220h160v-160H400v160Zm0 220h160v-160H400v160ZM180-400h160v-160H180v160Zm440 0h160v-160H620v160ZM180-180h160v-160H180v160Zm440 0h160v-160H620v160Z\"/>\n",
              "  </svg>\n",
              "    </button>\n",
              "\n",
              "  <style>\n",
              "    .colab-df-container {\n",
              "      display:flex;\n",
              "      gap: 12px;\n",
              "    }\n",
              "\n",
              "    .colab-df-convert {\n",
              "      background-color: #E8F0FE;\n",
              "      border: none;\n",
              "      border-radius: 50%;\n",
              "      cursor: pointer;\n",
              "      display: none;\n",
              "      fill: #1967D2;\n",
              "      height: 32px;\n",
              "      padding: 0 0 0 0;\n",
              "      width: 32px;\n",
              "    }\n",
              "\n",
              "    .colab-df-convert:hover {\n",
              "      background-color: #E2EBFA;\n",
              "      box-shadow: 0px 1px 2px rgba(60, 64, 67, 0.3), 0px 1px 3px 1px rgba(60, 64, 67, 0.15);\n",
              "      fill: #174EA6;\n",
              "    }\n",
              "\n",
              "    .colab-df-buttons div {\n",
              "      margin-bottom: 4px;\n",
              "    }\n",
              "\n",
              "    [theme=dark] .colab-df-convert {\n",
              "      background-color: #3B4455;\n",
              "      fill: #D2E3FC;\n",
              "    }\n",
              "\n",
              "    [theme=dark] .colab-df-convert:hover {\n",
              "      background-color: #434B5C;\n",
              "      box-shadow: 0px 1px 3px 1px rgba(0, 0, 0, 0.15);\n",
              "      filter: drop-shadow(0px 1px 2px rgba(0, 0, 0, 0.3));\n",
              "      fill: #FFFFFF;\n",
              "    }\n",
              "  </style>\n",
              "\n",
              "    <script>\n",
              "      const buttonEl =\n",
              "        document.querySelector('#df-f50ba02d-552f-4e6e-81c0-4e2a4176ce99 button.colab-df-convert');\n",
              "      buttonEl.style.display =\n",
              "        google.colab.kernel.accessAllowed ? 'block' : 'none';\n",
              "\n",
              "      async function convertToInteractive(key) {\n",
              "        const element = document.querySelector('#df-f50ba02d-552f-4e6e-81c0-4e2a4176ce99');\n",
              "        const dataTable =\n",
              "          await google.colab.kernel.invokeFunction('convertToInteractive',\n",
              "                                                    [key], {});\n",
              "        if (!dataTable) return;\n",
              "\n",
              "        const docLinkHtml = 'Like what you see? Visit the ' +\n",
              "          '<a target=\"_blank\" href=https://colab.research.google.com/notebooks/data_table.ipynb>data table notebook</a>'\n",
              "          + ' to learn more about interactive tables.';\n",
              "        element.innerHTML = '';\n",
              "        dataTable['output_type'] = 'display_data';\n",
              "        await google.colab.output.renderOutput(dataTable, element);\n",
              "        const docLink = document.createElement('div');\n",
              "        docLink.innerHTML = docLinkHtml;\n",
              "        element.appendChild(docLink);\n",
              "      }\n",
              "    </script>\n",
              "  </div>\n",
              "\n",
              "\n",
              "<div id=\"df-c606f65a-889b-4553-8d46-91c0618ac063\">\n",
              "  <button class=\"colab-df-quickchart\" onclick=\"quickchart('df-c606f65a-889b-4553-8d46-91c0618ac063')\"\n",
              "            title=\"Suggest charts\"\n",
              "            style=\"display:none;\">\n",
              "\n",
              "<svg xmlns=\"http://www.w3.org/2000/svg\" height=\"24px\"viewBox=\"0 0 24 24\"\n",
              "     width=\"24px\">\n",
              "    <g>\n",
              "        <path d=\"M19 3H5c-1.1 0-2 .9-2 2v14c0 1.1.9 2 2 2h14c1.1 0 2-.9 2-2V5c0-1.1-.9-2-2-2zM9 17H7v-7h2v7zm4 0h-2V7h2v10zm4 0h-2v-4h2v4z\"/>\n",
              "    </g>\n",
              "</svg>\n",
              "  </button>\n",
              "\n",
              "<style>\n",
              "  .colab-df-quickchart {\n",
              "      --bg-color: #E8F0FE;\n",
              "      --fill-color: #1967D2;\n",
              "      --hover-bg-color: #E2EBFA;\n",
              "      --hover-fill-color: #174EA6;\n",
              "      --disabled-fill-color: #AAA;\n",
              "      --disabled-bg-color: #DDD;\n",
              "  }\n",
              "\n",
              "  [theme=dark] .colab-df-quickchart {\n",
              "      --bg-color: #3B4455;\n",
              "      --fill-color: #D2E3FC;\n",
              "      --hover-bg-color: #434B5C;\n",
              "      --hover-fill-color: #FFFFFF;\n",
              "      --disabled-bg-color: #3B4455;\n",
              "      --disabled-fill-color: #666;\n",
              "  }\n",
              "\n",
              "  .colab-df-quickchart {\n",
              "    background-color: var(--bg-color);\n",
              "    border: none;\n",
              "    border-radius: 50%;\n",
              "    cursor: pointer;\n",
              "    display: none;\n",
              "    fill: var(--fill-color);\n",
              "    height: 32px;\n",
              "    padding: 0;\n",
              "    width: 32px;\n",
              "  }\n",
              "\n",
              "  .colab-df-quickchart:hover {\n",
              "    background-color: var(--hover-bg-color);\n",
              "    box-shadow: 0 1px 2px rgba(60, 64, 67, 0.3), 0 1px 3px 1px rgba(60, 64, 67, 0.15);\n",
              "    fill: var(--button-hover-fill-color);\n",
              "  }\n",
              "\n",
              "  .colab-df-quickchart-complete:disabled,\n",
              "  .colab-df-quickchart-complete:disabled:hover {\n",
              "    background-color: var(--disabled-bg-color);\n",
              "    fill: var(--disabled-fill-color);\n",
              "    box-shadow: none;\n",
              "  }\n",
              "\n",
              "  .colab-df-spinner {\n",
              "    border: 2px solid var(--fill-color);\n",
              "    border-color: transparent;\n",
              "    border-bottom-color: var(--fill-color);\n",
              "    animation:\n",
              "      spin 1s steps(1) infinite;\n",
              "  }\n",
              "\n",
              "  @keyframes spin {\n",
              "    0% {\n",
              "      border-color: transparent;\n",
              "      border-bottom-color: var(--fill-color);\n",
              "      border-left-color: var(--fill-color);\n",
              "    }\n",
              "    20% {\n",
              "      border-color: transparent;\n",
              "      border-left-color: var(--fill-color);\n",
              "      border-top-color: var(--fill-color);\n",
              "    }\n",
              "    30% {\n",
              "      border-color: transparent;\n",
              "      border-left-color: var(--fill-color);\n",
              "      border-top-color: var(--fill-color);\n",
              "      border-right-color: var(--fill-color);\n",
              "    }\n",
              "    40% {\n",
              "      border-color: transparent;\n",
              "      border-right-color: var(--fill-color);\n",
              "      border-top-color: var(--fill-color);\n",
              "    }\n",
              "    60% {\n",
              "      border-color: transparent;\n",
              "      border-right-color: var(--fill-color);\n",
              "    }\n",
              "    80% {\n",
              "      border-color: transparent;\n",
              "      border-right-color: var(--fill-color);\n",
              "      border-bottom-color: var(--fill-color);\n",
              "    }\n",
              "    90% {\n",
              "      border-color: transparent;\n",
              "      border-bottom-color: var(--fill-color);\n",
              "    }\n",
              "  }\n",
              "</style>\n",
              "\n",
              "  <script>\n",
              "    async function quickchart(key) {\n",
              "      const quickchartButtonEl =\n",
              "        document.querySelector('#' + key + ' button');\n",
              "      quickchartButtonEl.disabled = true;  // To prevent multiple clicks.\n",
              "      quickchartButtonEl.classList.add('colab-df-spinner');\n",
              "      try {\n",
              "        const charts = await google.colab.kernel.invokeFunction(\n",
              "            'suggestCharts', [key], {});\n",
              "      } catch (error) {\n",
              "        console.error('Error during call to suggestCharts:', error);\n",
              "      }\n",
              "      quickchartButtonEl.classList.remove('colab-df-spinner');\n",
              "      quickchartButtonEl.classList.add('colab-df-quickchart-complete');\n",
              "    }\n",
              "    (() => {\n",
              "      let quickchartButtonEl =\n",
              "        document.querySelector('#df-c606f65a-889b-4553-8d46-91c0618ac063 button');\n",
              "      quickchartButtonEl.style.display =\n",
              "        google.colab.kernel.accessAllowed ? 'block' : 'none';\n",
              "    })();\n",
              "  </script>\n",
              "</div>\n",
              "\n",
              "    </div>\n",
              "  </div>\n"
            ],
            "application/vnd.google.colaboratory.intrinsic+json": {
              "type": "dataframe",
              "variable_name": "frequent_itemsets",
              "summary": "{\n  \"name\": \"frequent_itemsets\",\n  \"rows\": 550,\n  \"fields\": [\n    {\n      \"column\": \"support\",\n      \"properties\": {\n        \"dtype\": \"number\",\n        \"std\": 0.011079408102399196,\n        \"min\": 0.005067567567567568,\n        \"max\": 0.13429054054054054,\n        \"num_unique_values\": 48,\n        \"samples\": [\n          0.04222972972972973,\n          0.0929054054054054,\n          0.04983108108108108\n        ],\n        \"semantic_type\": \"\",\n        \"description\": \"\"\n      }\n    },\n    {\n      \"column\": \"itemsets\",\n      \"properties\": {\n        \"dtype\": \"string\",\n        \"num_unique_values\": 550,\n        \"samples\": [\n          \"frozenset({'Organic Peeled Whole Baby Carrots'})\",\n          \"frozenset({'Half & Half'})\",\n          \"frozenset({'Organic Raspberries', 'Organic Blackberries'})\"\n        ],\n        \"semantic_type\": \"\",\n        \"description\": \"\"\n      }\n    }\n  ]\n}"
            }
          },
          "metadata": {},
          "execution_count": 13
        }
      ]
    },
    {
      "cell_type": "code",
      "source": [
        "rules = association_rules(frequent_itemsets, metric=\"lift\", min_threshold=1.0)\n",
        "rules.head()"
      ],
      "metadata": {
        "colab": {
          "base_uri": "https://localhost:8080/",
          "height": 365
        },
        "id": "M1AzIJqvDYzv",
        "outputId": "ee1f4b04-5776-4661-c3d9-923e31c84e8b"
      },
      "execution_count": null,
      "outputs": [
        {
          "output_type": "stream",
          "name": "stderr",
          "text": [
            "/usr/local/lib/python3.10/dist-packages/ipykernel/ipkernel.py:283: DeprecationWarning: `should_run_async` will not call `transform_cell` automatically in the future. Please pass the result to `transformed_cell` argument and any exception that happen during thetransform in `preprocessing_exc_tuple` in IPython 7.17 and above.\n",
            "  and should_run_async(code)\n"
          ]
        },
        {
          "output_type": "execute_result",
          "data": {
            "text/plain": [
              "                  antecedents                 consequents  antecedent support  \\\n",
              "0                    (Banana)      (85% Lean Ground Beef)            0.134291   \n",
              "1      (85% Lean Ground Beef)                    (Banana)            0.010135   \n",
              "2  (Apple Honeycrisp Organic)    (Bag of Organic Bananas)            0.023649   \n",
              "3    (Bag of Organic Bananas)  (Apple Honeycrisp Organic)            0.113176   \n",
              "4  (Apple Honeycrisp Organic)      (Organic Baby Spinach)            0.023649   \n",
              "\n",
              "   consequent support   support  confidence      lift  leverage  conviction  \\\n",
              "0            0.010135  0.005068    0.037736  3.723270  0.003707    1.028683   \n",
              "1            0.134291  0.005068    0.500000  3.723270  0.003707    1.731419   \n",
              "2            0.113176  0.006757    0.285714  2.524520  0.004080    1.241554   \n",
              "3            0.023649  0.006757    0.059701  2.524520  0.004080    1.038342   \n",
              "4            0.069257  0.005068    0.214286  3.094077  0.003430    1.184582   \n",
              "\n",
              "   zhangs_metric  \n",
              "0       0.844878  \n",
              "1       0.738908  \n",
              "2       0.618512  \n",
              "3       0.680952  \n",
              "4       0.693195  "
            ],
            "text/html": [
              "\n",
              "  <div id=\"df-ef85e582-2ede-455f-a430-16596ff09758\" class=\"colab-df-container\">\n",
              "    <div>\n",
              "<style scoped>\n",
              "    .dataframe tbody tr th:only-of-type {\n",
              "        vertical-align: middle;\n",
              "    }\n",
              "\n",
              "    .dataframe tbody tr th {\n",
              "        vertical-align: top;\n",
              "    }\n",
              "\n",
              "    .dataframe thead th {\n",
              "        text-align: right;\n",
              "    }\n",
              "</style>\n",
              "<table border=\"1\" class=\"dataframe\">\n",
              "  <thead>\n",
              "    <tr style=\"text-align: right;\">\n",
              "      <th></th>\n",
              "      <th>antecedents</th>\n",
              "      <th>consequents</th>\n",
              "      <th>antecedent support</th>\n",
              "      <th>consequent support</th>\n",
              "      <th>support</th>\n",
              "      <th>confidence</th>\n",
              "      <th>lift</th>\n",
              "      <th>leverage</th>\n",
              "      <th>conviction</th>\n",
              "      <th>zhangs_metric</th>\n",
              "    </tr>\n",
              "  </thead>\n",
              "  <tbody>\n",
              "    <tr>\n",
              "      <th>0</th>\n",
              "      <td>(Banana)</td>\n",
              "      <td>(85% Lean Ground Beef)</td>\n",
              "      <td>0.134291</td>\n",
              "      <td>0.010135</td>\n",
              "      <td>0.005068</td>\n",
              "      <td>0.037736</td>\n",
              "      <td>3.723270</td>\n",
              "      <td>0.003707</td>\n",
              "      <td>1.028683</td>\n",
              "      <td>0.844878</td>\n",
              "    </tr>\n",
              "    <tr>\n",
              "      <th>1</th>\n",
              "      <td>(85% Lean Ground Beef)</td>\n",
              "      <td>(Banana)</td>\n",
              "      <td>0.010135</td>\n",
              "      <td>0.134291</td>\n",
              "      <td>0.005068</td>\n",
              "      <td>0.500000</td>\n",
              "      <td>3.723270</td>\n",
              "      <td>0.003707</td>\n",
              "      <td>1.731419</td>\n",
              "      <td>0.738908</td>\n",
              "    </tr>\n",
              "    <tr>\n",
              "      <th>2</th>\n",
              "      <td>(Apple Honeycrisp Organic)</td>\n",
              "      <td>(Bag of Organic Bananas)</td>\n",
              "      <td>0.023649</td>\n",
              "      <td>0.113176</td>\n",
              "      <td>0.006757</td>\n",
              "      <td>0.285714</td>\n",
              "      <td>2.524520</td>\n",
              "      <td>0.004080</td>\n",
              "      <td>1.241554</td>\n",
              "      <td>0.618512</td>\n",
              "    </tr>\n",
              "    <tr>\n",
              "      <th>3</th>\n",
              "      <td>(Bag of Organic Bananas)</td>\n",
              "      <td>(Apple Honeycrisp Organic)</td>\n",
              "      <td>0.113176</td>\n",
              "      <td>0.023649</td>\n",
              "      <td>0.006757</td>\n",
              "      <td>0.059701</td>\n",
              "      <td>2.524520</td>\n",
              "      <td>0.004080</td>\n",
              "      <td>1.038342</td>\n",
              "      <td>0.680952</td>\n",
              "    </tr>\n",
              "    <tr>\n",
              "      <th>4</th>\n",
              "      <td>(Apple Honeycrisp Organic)</td>\n",
              "      <td>(Organic Baby Spinach)</td>\n",
              "      <td>0.023649</td>\n",
              "      <td>0.069257</td>\n",
              "      <td>0.005068</td>\n",
              "      <td>0.214286</td>\n",
              "      <td>3.094077</td>\n",
              "      <td>0.003430</td>\n",
              "      <td>1.184582</td>\n",
              "      <td>0.693195</td>\n",
              "    </tr>\n",
              "  </tbody>\n",
              "</table>\n",
              "</div>\n",
              "    <div class=\"colab-df-buttons\">\n",
              "\n",
              "  <div class=\"colab-df-container\">\n",
              "    <button class=\"colab-df-convert\" onclick=\"convertToInteractive('df-ef85e582-2ede-455f-a430-16596ff09758')\"\n",
              "            title=\"Convert this dataframe to an interactive table.\"\n",
              "            style=\"display:none;\">\n",
              "\n",
              "  <svg xmlns=\"http://www.w3.org/2000/svg\" height=\"24px\" viewBox=\"0 -960 960 960\">\n",
              "    <path d=\"M120-120v-720h720v720H120Zm60-500h600v-160H180v160Zm220 220h160v-160H400v160Zm0 220h160v-160H400v160ZM180-400h160v-160H180v160Zm440 0h160v-160H620v160ZM180-180h160v-160H180v160Zm440 0h160v-160H620v160Z\"/>\n",
              "  </svg>\n",
              "    </button>\n",
              "\n",
              "  <style>\n",
              "    .colab-df-container {\n",
              "      display:flex;\n",
              "      gap: 12px;\n",
              "    }\n",
              "\n",
              "    .colab-df-convert {\n",
              "      background-color: #E8F0FE;\n",
              "      border: none;\n",
              "      border-radius: 50%;\n",
              "      cursor: pointer;\n",
              "      display: none;\n",
              "      fill: #1967D2;\n",
              "      height: 32px;\n",
              "      padding: 0 0 0 0;\n",
              "      width: 32px;\n",
              "    }\n",
              "\n",
              "    .colab-df-convert:hover {\n",
              "      background-color: #E2EBFA;\n",
              "      box-shadow: 0px 1px 2px rgba(60, 64, 67, 0.3), 0px 1px 3px 1px rgba(60, 64, 67, 0.15);\n",
              "      fill: #174EA6;\n",
              "    }\n",
              "\n",
              "    .colab-df-buttons div {\n",
              "      margin-bottom: 4px;\n",
              "    }\n",
              "\n",
              "    [theme=dark] .colab-df-convert {\n",
              "      background-color: #3B4455;\n",
              "      fill: #D2E3FC;\n",
              "    }\n",
              "\n",
              "    [theme=dark] .colab-df-convert:hover {\n",
              "      background-color: #434B5C;\n",
              "      box-shadow: 0px 1px 3px 1px rgba(0, 0, 0, 0.15);\n",
              "      filter: drop-shadow(0px 1px 2px rgba(0, 0, 0, 0.3));\n",
              "      fill: #FFFFFF;\n",
              "    }\n",
              "  </style>\n",
              "\n",
              "    <script>\n",
              "      const buttonEl =\n",
              "        document.querySelector('#df-ef85e582-2ede-455f-a430-16596ff09758 button.colab-df-convert');\n",
              "      buttonEl.style.display =\n",
              "        google.colab.kernel.accessAllowed ? 'block' : 'none';\n",
              "\n",
              "      async function convertToInteractive(key) {\n",
              "        const element = document.querySelector('#df-ef85e582-2ede-455f-a430-16596ff09758');\n",
              "        const dataTable =\n",
              "          await google.colab.kernel.invokeFunction('convertToInteractive',\n",
              "                                                    [key], {});\n",
              "        if (!dataTable) return;\n",
              "\n",
              "        const docLinkHtml = 'Like what you see? Visit the ' +\n",
              "          '<a target=\"_blank\" href=https://colab.research.google.com/notebooks/data_table.ipynb>data table notebook</a>'\n",
              "          + ' to learn more about interactive tables.';\n",
              "        element.innerHTML = '';\n",
              "        dataTable['output_type'] = 'display_data';\n",
              "        await google.colab.output.renderOutput(dataTable, element);\n",
              "        const docLink = document.createElement('div');\n",
              "        docLink.innerHTML = docLinkHtml;\n",
              "        element.appendChild(docLink);\n",
              "      }\n",
              "    </script>\n",
              "  </div>\n",
              "\n",
              "\n",
              "<div id=\"df-67cc05fb-0d80-4cf8-abd3-1732d21f7e64\">\n",
              "  <button class=\"colab-df-quickchart\" onclick=\"quickchart('df-67cc05fb-0d80-4cf8-abd3-1732d21f7e64')\"\n",
              "            title=\"Suggest charts\"\n",
              "            style=\"display:none;\">\n",
              "\n",
              "<svg xmlns=\"http://www.w3.org/2000/svg\" height=\"24px\"viewBox=\"0 0 24 24\"\n",
              "     width=\"24px\">\n",
              "    <g>\n",
              "        <path d=\"M19 3H5c-1.1 0-2 .9-2 2v14c0 1.1.9 2 2 2h14c1.1 0 2-.9 2-2V5c0-1.1-.9-2-2-2zM9 17H7v-7h2v7zm4 0h-2V7h2v10zm4 0h-2v-4h2v4z\"/>\n",
              "    </g>\n",
              "</svg>\n",
              "  </button>\n",
              "\n",
              "<style>\n",
              "  .colab-df-quickchart {\n",
              "      --bg-color: #E8F0FE;\n",
              "      --fill-color: #1967D2;\n",
              "      --hover-bg-color: #E2EBFA;\n",
              "      --hover-fill-color: #174EA6;\n",
              "      --disabled-fill-color: #AAA;\n",
              "      --disabled-bg-color: #DDD;\n",
              "  }\n",
              "\n",
              "  [theme=dark] .colab-df-quickchart {\n",
              "      --bg-color: #3B4455;\n",
              "      --fill-color: #D2E3FC;\n",
              "      --hover-bg-color: #434B5C;\n",
              "      --hover-fill-color: #FFFFFF;\n",
              "      --disabled-bg-color: #3B4455;\n",
              "      --disabled-fill-color: #666;\n",
              "  }\n",
              "\n",
              "  .colab-df-quickchart {\n",
              "    background-color: var(--bg-color);\n",
              "    border: none;\n",
              "    border-radius: 50%;\n",
              "    cursor: pointer;\n",
              "    display: none;\n",
              "    fill: var(--fill-color);\n",
              "    height: 32px;\n",
              "    padding: 0;\n",
              "    width: 32px;\n",
              "  }\n",
              "\n",
              "  .colab-df-quickchart:hover {\n",
              "    background-color: var(--hover-bg-color);\n",
              "    box-shadow: 0 1px 2px rgba(60, 64, 67, 0.3), 0 1px 3px 1px rgba(60, 64, 67, 0.15);\n",
              "    fill: var(--button-hover-fill-color);\n",
              "  }\n",
              "\n",
              "  .colab-df-quickchart-complete:disabled,\n",
              "  .colab-df-quickchart-complete:disabled:hover {\n",
              "    background-color: var(--disabled-bg-color);\n",
              "    fill: var(--disabled-fill-color);\n",
              "    box-shadow: none;\n",
              "  }\n",
              "\n",
              "  .colab-df-spinner {\n",
              "    border: 2px solid var(--fill-color);\n",
              "    border-color: transparent;\n",
              "    border-bottom-color: var(--fill-color);\n",
              "    animation:\n",
              "      spin 1s steps(1) infinite;\n",
              "  }\n",
              "\n",
              "  @keyframes spin {\n",
              "    0% {\n",
              "      border-color: transparent;\n",
              "      border-bottom-color: var(--fill-color);\n",
              "      border-left-color: var(--fill-color);\n",
              "    }\n",
              "    20% {\n",
              "      border-color: transparent;\n",
              "      border-left-color: var(--fill-color);\n",
              "      border-top-color: var(--fill-color);\n",
              "    }\n",
              "    30% {\n",
              "      border-color: transparent;\n",
              "      border-left-color: var(--fill-color);\n",
              "      border-top-color: var(--fill-color);\n",
              "      border-right-color: var(--fill-color);\n",
              "    }\n",
              "    40% {\n",
              "      border-color: transparent;\n",
              "      border-right-color: var(--fill-color);\n",
              "      border-top-color: var(--fill-color);\n",
              "    }\n",
              "    60% {\n",
              "      border-color: transparent;\n",
              "      border-right-color: var(--fill-color);\n",
              "    }\n",
              "    80% {\n",
              "      border-color: transparent;\n",
              "      border-right-color: var(--fill-color);\n",
              "      border-bottom-color: var(--fill-color);\n",
              "    }\n",
              "    90% {\n",
              "      border-color: transparent;\n",
              "      border-bottom-color: var(--fill-color);\n",
              "    }\n",
              "  }\n",
              "</style>\n",
              "\n",
              "  <script>\n",
              "    async function quickchart(key) {\n",
              "      const quickchartButtonEl =\n",
              "        document.querySelector('#' + key + ' button');\n",
              "      quickchartButtonEl.disabled = true;  // To prevent multiple clicks.\n",
              "      quickchartButtonEl.classList.add('colab-df-spinner');\n",
              "      try {\n",
              "        const charts = await google.colab.kernel.invokeFunction(\n",
              "            'suggestCharts', [key], {});\n",
              "      } catch (error) {\n",
              "        console.error('Error during call to suggestCharts:', error);\n",
              "      }\n",
              "      quickchartButtonEl.classList.remove('colab-df-spinner');\n",
              "      quickchartButtonEl.classList.add('colab-df-quickchart-complete');\n",
              "    }\n",
              "    (() => {\n",
              "      let quickchartButtonEl =\n",
              "        document.querySelector('#df-67cc05fb-0d80-4cf8-abd3-1732d21f7e64 button');\n",
              "      quickchartButtonEl.style.display =\n",
              "        google.colab.kernel.accessAllowed ? 'block' : 'none';\n",
              "    })();\n",
              "  </script>\n",
              "</div>\n",
              "\n",
              "    </div>\n",
              "  </div>\n"
            ],
            "application/vnd.google.colaboratory.intrinsic+json": {
              "type": "dataframe",
              "variable_name": "rules",
              "summary": "{\n  \"name\": \"rules\",\n  \"rows\": 480,\n  \"fields\": [\n    {\n      \"column\": \"antecedents\",\n      \"properties\": {\n        \"dtype\": \"category\",\n        \"num_unique_values\": 88,\n        \"samples\": [\n          \"frozenset({'Organic Zucchini', 'Bag of Organic Bananas'})\",\n          \"frozenset({'Banana'})\",\n          \"frozenset({'Organic Kiwi'})\"\n        ],\n        \"semantic_type\": \"\",\n        \"description\": \"\"\n      }\n    },\n    {\n      \"column\": \"consequents\",\n      \"properties\": {\n        \"dtype\": \"category\",\n        \"num_unique_values\": 88,\n        \"samples\": [\n          \"frozenset({'Organic Zucchini', 'Organic Hass Avocado'})\",\n          \"frozenset({'85% Lean Ground Beef'})\",\n          \"frozenset({'Organic Kiwi'})\"\n        ],\n        \"semantic_type\": \"\",\n        \"description\": \"\"\n      }\n    },\n    {\n      \"column\": \"antecedent support\",\n      \"properties\": {\n        \"dtype\": \"number\",\n        \"std\": 0.03715324868867008,\n        \"min\": 0.0059121621621621625,\n        \"max\": 0.13429054054054054,\n        \"num_unique_values\": 46,\n        \"samples\": [\n          0.01266891891891892,\n          0.041385135135135136,\n          0.03800675675675676\n        ],\n        \"semantic_type\": \"\",\n        \"description\": \"\"\n      }\n    },\n    {\n      \"column\": \"consequent support\",\n      \"properties\": {\n        \"dtype\": \"number\",\n        \"std\": 0.037153248688670086,\n        \"min\": 0.0059121621621621625,\n        \"max\": 0.13429054054054054,\n        \"num_unique_values\": 46,\n        \"samples\": [\n          0.01266891891891892,\n          0.041385135135135136,\n          0.03800675675675676\n        ],\n        \"semantic_type\": \"\",\n        \"description\": \"\"\n      }\n    },\n    {\n      \"column\": \"support\",\n      \"properties\": {\n        \"dtype\": \"number\",\n        \"std\": 0.003011346013666039,\n        \"min\": 0.005067567567567568,\n        \"max\": 0.030405405405405407,\n        \"num_unique_values\": 16,\n        \"samples\": [\n          0.005067567567567568,\n          0.006756756756756757,\n          0.009290540540540541\n        ],\n        \"semantic_type\": \"\",\n        \"description\": \"\"\n      }\n    },\n    {\n      \"column\": \"confidence\",\n      \"properties\": {\n        \"dtype\": \"number\",\n        \"std\": 0.13166842261564743,\n        \"min\": 0.03773584905660377,\n        \"max\": 0.8571428571428571,\n        \"num_unique_values\": 181,\n        \"samples\": [\n          0.21875,\n          0.4736842105263158,\n          0.4166666666666667\n        ],\n        \"semantic_type\": \"\",\n        \"description\": \"\"\n      }\n    },\n    {\n      \"column\": \"lift\",\n      \"properties\": {\n        \"dtype\": \"number\",\n        \"std\": 2.3378160353672572,\n        \"min\": 1.0425157232704403,\n        \"max\": 14.617283950617287,\n        \"num_unique_values\": 301,\n        \"samples\": [\n          6.664165103189494,\n          10.447058823529412,\n          3.587878787878788\n        ],\n        \"semantic_type\": \"\",\n        \"description\": \"\"\n      }\n    },\n    {\n      \"column\": \"leverage\",\n      \"properties\": {\n        \"dtype\": \"number\",\n        \"std\": 0.0020871726133716087,\n        \"min\": 0.00024110892987582247,\n        \"max\": 0.01989077337472608,\n        \"num_unique_values\": 227,\n        \"samples\": [\n          0.004024664444850256,\n          0.004384187819576333,\n          0.00451116234477721\n        ],\n        \"semantic_type\": \"\",\n        \"description\": \"\"\n      }\n    },\n    {\n      \"column\": \"conviction\",\n      \"properties\": {\n        \"dtype\": \"number\",\n        \"std\": 0.3397035994006406,\n        \"min\": 1.0018781116642959,\n        \"max\": 6.3496621621621605,\n        \"num_unique_values\": 447,\n        \"samples\": [\n          1.0410870429252783,\n          1.1492043029871977,\n          1.1846550497866286\n        ],\n        \"semantic_type\": \"\",\n        \"description\": \"\"\n      }\n    },\n    {\n      \"column\": \"zhangs_metric\",\n      \"properties\": {\n        \"dtype\": \"number\",\n        \"std\": 0.16873268438429878,\n        \"min\": 0.042579994960947457,\n        \"max\": 0.9829298572315331,\n        \"num_unique_values\": 454,\n        \"samples\": [\n          0.7827041264266901,\n          0.46353711790393026,\n          0.6941592920353982\n        ],\n        \"semantic_type\": \"\",\n        \"description\": \"\"\n      }\n    }\n  ]\n}"
            }
          },
          "metadata": {},
          "execution_count": 14
        }
      ]
    },
    {
      "cell_type": "code",
      "source": [
        "filtered_rules = rules[(rules['confidence'] > 0.5) & (rules['lift'] > 1.2)]\n",
        "print(filtered_rules.head())"
      ],
      "metadata": {
        "colab": {
          "base_uri": "https://localhost:8080/"
        },
        "id": "3euU_Hv2DdY9",
        "outputId": "a01ca06b-a5a2-4525-96d1-97db00065a06"
      },
      "execution_count": null,
      "outputs": [
        {
          "output_type": "stream",
          "name": "stdout",
          "text": [
            "                                      antecedents               consequents  \\\n",
            "97                           (Honey Nut Cheerios)                  (Banana)   \n",
            "401                     (Uncured Slow Cooked Ham)    (Organic Strawberries)   \n",
            "409  (Organic Hass Avocado, Organic Baby Spinach)  (Bag of Organic Bananas)   \n",
            "415   (Organic Raspberries, Organic Baby Spinach)  (Bag of Organic Bananas)   \n",
            "427   (Organic Raspberries, Organic Hass Avocado)  (Bag of Organic Bananas)   \n",
            "\n",
            "     antecedent support  consequent support   support  confidence      lift  \\\n",
            "97             0.009291            0.134291  0.005068    0.545455  4.061750   \n",
            "401            0.005912            0.092905  0.005068    0.857143  9.225974   \n",
            "409            0.010980            0.113176  0.005912    0.538462  4.757750   \n",
            "415            0.008446            0.113176  0.005068    0.600000  5.301493   \n",
            "427            0.008446            0.113176  0.005912    0.700000  6.185075   \n",
            "\n",
            "     leverage  conviction  zhangs_metric  \n",
            "97   0.003820    1.904561       0.760870  \n",
            "401  0.004518    6.349662       0.896913  \n",
            "409  0.004670    1.921453       0.798585  \n",
            "415  0.004112    2.217061       0.818285  \n",
            "427  0.004956    2.956081       0.845461  \n"
          ]
        },
        {
          "output_type": "stream",
          "name": "stderr",
          "text": [
            "/usr/local/lib/python3.10/dist-packages/ipykernel/ipkernel.py:283: DeprecationWarning: `should_run_async` will not call `transform_cell` automatically in the future. Please pass the result to `transformed_cell` argument and any exception that happen during thetransform in `preprocessing_exc_tuple` in IPython 7.17 and above.\n",
            "  and should_run_async(code)\n"
          ]
        }
      ]
    },
    {
      "cell_type": "markdown",
      "source": [
        "#This scatter plot shows the relationship between 'support' and 'confidence' for each rule."
      ],
      "metadata": {
        "id": "QSLdTS9ZtYLl"
      }
    },
    {
      "cell_type": "code",
      "source": [
        "plt.figure(figsize=(10, 6))\n",
        "sns.scatterplot(data=filtered_rules, x='support', y='confidence', size='lift', hue='lift', alpha=0.6, palette='viridis')\n",
        "plt.title('Support vs Confidence with Lift as Size')\n",
        "plt.xlabel('Support')\n",
        "plt.ylabel('Confidence')\n",
        "plt.legend(loc='upper right', title='Lift')\n",
        "plt.show()"
      ],
      "metadata": {
        "colab": {
          "base_uri": "https://localhost:8080/",
          "height": 619
        },
        "id": "uHPeEtHMr7QG",
        "outputId": "384de575-4790-4286-81e0-e4e104977843"
      },
      "execution_count": null,
      "outputs": [
        {
          "output_type": "stream",
          "name": "stderr",
          "text": [
            "/usr/local/lib/python3.10/dist-packages/ipykernel/ipkernel.py:283: DeprecationWarning: `should_run_async` will not call `transform_cell` automatically in the future. Please pass the result to `transformed_cell` argument and any exception that happen during thetransform in `preprocessing_exc_tuple` in IPython 7.17 and above.\n",
            "  and should_run_async(code)\n"
          ]
        },
        {
          "output_type": "display_data",
          "data": {
            "text/plain": [
              "<Figure size 1000x600 with 1 Axes>"
            ],
            "image/png": "[encoded data removed]"
          },
          "metadata": {}
        }
      ]
    },
    {
      "cell_type": "markdown",
      "source": [
        "# This histogram shows the distribution of confidence values for all the rules.\n"
      ],
      "metadata": {
        "id": "xdxPzXzptiVR"
      }
    },
    {
      "cell_type": "code",
      "source": [
        "plt.figure(figsize=(12, 6))\n",
        "sns.histplot(filtered_rules['confidence'], bins=20, kde=True, color='blue')\n",
        "plt.title('Distribution of Confidence Levels')\n",
        "plt.xlabel('Confidence')\n",
        "plt.ylabel('Frequency')\n",
        "plt.show()"
      ],
      "metadata": {
        "colab": {
          "base_uri": "https://localhost:8080/",
          "height": 619
        },
        "id": "jXka2uosr-5t",
        "outputId": "efe71167-9c2b-4bc8-a668-7c716bab6ef1"
      },
      "execution_count": null,
      "outputs": [
        {
          "output_type": "stream",
          "name": "stderr",
          "text": [
            "/usr/local/lib/python3.10/dist-packages/ipykernel/ipkernel.py:283: DeprecationWarning: `should_run_async` will not call `transform_cell` automatically in the future. Please pass the result to `transformed_cell` argument and any exception that happen during thetransform in `preprocessing_exc_tuple` in IPython 7.17 and above.\n",
            "  and should_run_async(code)\n"
          ]
        },
        {
          "output_type": "display_data",
          "data": {
            "text/plain": [
              "<Figure size 1200x600 with 1 Axes>"
            ],
            "image/png": "[encoded data removed]"
          },
          "metadata": {}
        }
      ]
    },
    {
      "cell_type": "markdown",
      "source": [
        "# This histogram shows the distribution of lift values for all the rules.\n"
      ],
      "metadata": {
        "id": "xg7MVJ9ltmir"
      }
    },
    {
      "cell_type": "code",
      "source": [
        "plt.figure(figsize=(12, 6))\n",
        "sns.histplot(filtered_rules['lift'], bins=20, kde=True, color='green')\n",
        "plt.title('Distribution of Lift Values')\n",
        "plt.xlabel('Lift')\n",
        "plt.ylabel('Frequency')\n",
        "plt.show()\n"
      ],
      "metadata": {
        "colab": {
          "base_uri": "https://localhost:8080/",
          "height": 619
        },
        "id": "ZVPAhcP-sBMS",
        "outputId": "84170f14-6242-4f65-8393-f6bf70e0f929"
      },
      "execution_count": null,
      "outputs": [
        {
          "output_type": "stream",
          "name": "stderr",
          "text": [
            "/usr/local/lib/python3.10/dist-packages/ipykernel/ipkernel.py:283: DeprecationWarning: `should_run_async` will not call `transform_cell` automatically in the future. Please pass the result to `transformed_cell` argument and any exception that happen during thetransform in `preprocessing_exc_tuple` in IPython 7.17 and above.\n",
            "  and should_run_async(code)\n"
          ]
        },
        {
          "output_type": "display_data",
          "data": {
            "text/plain": [
              "<Figure size 1200x600 with 1 Axes>"
            ],
            "image/png": "[encoded data removed]"
          },
          "metadata": {}
        }
      ]
    },
    {
      "cell_type": "markdown",
      "source": [
        "# Support vs Lift with Confidence as Size\n",
        "This scatter plot shows the relationship between 'support' and 'lift' for each rule.\n"
      ],
      "metadata": {
        "id": "-Cju0_sytrJF"
      }
    },
    {
      "cell_type": "code",
      "source": [
        "plt.figure(figsize=(10, 6))\n",
        "sns.scatterplot(data=filtered_rules, x='support', y='lift', size='confidence', hue='confidence', alpha=0.6, palette='coolwarm')\n",
        "plt.title('Support vs Lift with Confidence as Size')\n",
        "plt.xlabel('Support')\n",
        "plt.ylabel('Lift')\n",
        "plt.legend(loc='upper right', title='Confidence')\n",
        "plt.show()"
      ],
      "metadata": {
        "colab": {
          "base_uri": "https://localhost:8080/",
          "height": 619
        },
        "id": "Ys8j0JmLsLCm",
        "outputId": "ff80530d-fb7c-46a4-e637-e92888d21085"
      },
      "execution_count": null,
      "outputs": [
        {
          "output_type": "stream",
          "name": "stderr",
          "text": [
            "/usr/local/lib/python3.10/dist-packages/ipykernel/ipkernel.py:283: DeprecationWarning: `should_run_async` will not call `transform_cell` automatically in the future. Please pass the result to `transformed_cell` argument and any exception that happen during thetransform in `preprocessing_exc_tuple` in IPython 7.17 and above.\n",
            "  and should_run_async(code)\n"
          ]
        },
        {
          "output_type": "display_data",
          "data": {
            "text/plain": [
              "<Figure size 1000x600 with 1 Axes>"
            ],
            "image/png": "[encoded data removed]"
          },
          "metadata": {}
        }
      ]
    }
  ]
}